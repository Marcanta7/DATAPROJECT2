{
 "cells": [
  {
   "cell_type": "code",
   "execution_count": 2,
   "metadata": {},
   "outputs": [],
   "source": [
    "import apache_beam as beam\n",
    "from apache_beam.runners import DataflowRunner\n",
    "from apache_beam.options.pipeline_options import PipelineOptions\n",
    "import apache_beam.transforms.window as window\n",
    "from apache_beam.metrics import Metrics\n",
    "\n",
    "# B. Apache Beam ML Libraries\n",
    "from apache_beam.ml.inference.base import ModelHandler\n",
    "from apache_beam.ml.inference.base import RunInference\n",
    "\n",
    "# C. Python Libraries\n",
    "from datetime import datetime\n",
    "import argparse\n",
    "import logging\n",
    "import json\n"
   ]
  },
  {
   "cell_type": "code",
   "execution_count": 3,
   "metadata": {},
   "outputs": [],
   "source": [
    "\n",
    "beam.options.pipeline_options.PipelineOptions.allow_non_parallel_instruction_output = True\n",
    "DataflowRunner.__test__ = False\n",
    "\n",
    "def ParsePubSubMessages(message): \n",
    "    pubsub_message= message.decode('utf-8')\n",
    "\n",
    "    msg = json.loads(pubsub_message)\n",
    "\n",
    "    logging.info(\"New message: %s\", msg)\n",
    "\n",
    "    return msg\n"
   ]
  },
  {
   "cell_type": "code",
   "execution_count": null,
   "metadata": {},
   "outputs": [],
   "source": []
  }
 ],
 "metadata": {
  "kernelspec": {
   "display_name": "dproject",
   "language": "python",
   "name": "python3"
  },
  "language_info": {
   "codemirror_mode": {
    "name": "ipython",
    "version": 3
   },
   "file_extension": ".py",
   "mimetype": "text/x-python",
   "name": "python",
   "nbconvert_exporter": "python",
   "pygments_lexer": "ipython3",
   "version": "3.10.16"
  }
 },
 "nbformat": 4,
 "nbformat_minor": 2
}
