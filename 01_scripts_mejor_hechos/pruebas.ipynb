{
 "cells": [
  {
   "cell_type": "code",
   "execution_count": 2,
   "metadata": {},
   "outputs": [],
   "source": [
    "import faker as fk\n",
    "import random"
   ]
  },
  {
   "cell_type": "code",
   "execution_count": 22,
   "metadata": {},
   "outputs": [
    {
     "name": "stdout",
     "output_type": "stream",
     "text": [
      "Ismael Losada-Alemán\n",
      "+34-679637657\n"
     ]
    },
    {
     "data": {
      "text/plain": [
       "'va perfecto, genera nombres y numeros de telefono españoles solo'"
      ]
     },
     "execution_count": 22,
     "metadata": {},
     "output_type": "execute_result"
    }
   ],
   "source": [
    "fake = fk.Faker('es_ES')\n",
    "\n",
    "def nmumeros_tlf():\n",
    "    return f'+34-{random.randint(600000000, 699999999)}'\n",
    "\n",
    "\n",
    "nombres = fake.name()\n",
    "telefonos = nmumeros_tlf()\n",
    "\n",
    "print(nombres)\n",
    "print(telefonos)\n",
    "\n",
    "\n",
    "'''va perfecto, genera nombres y numeros de telefono españoles solo'''\n",
    "\n"
   ]
  },
  {
   "cell_type": "code",
   "execution_count": 12,
   "metadata": {},
   "outputs": [
    {
     "data": {
      "text/plain": [
       "'cadiz'"
      ]
     },
     "execution_count": 12,
     "metadata": {},
     "output_type": "execute_result"
    }
   ],
   "source": [
    "ciudades = ('barcelona', 'torrent', 'cadiz')\n",
    "ciudad= random.choice(ciudades)\n",
    "ciudad\n"
   ]
  }
 ],
 "metadata": {
  "kernelspec": {
   "display_name": "dproject",
   "language": "python",
   "name": "python3"
  },
  "language_info": {
   "codemirror_mode": {
    "name": "ipython",
    "version": 3
   },
   "file_extension": ".py",
   "mimetype": "text/x-python",
   "name": "python",
   "nbconvert_exporter": "python",
   "pygments_lexer": "ipython3",
   "version": "3.10.16"
  }
 },
 "nbformat": 4,
 "nbformat_minor": 2
}
